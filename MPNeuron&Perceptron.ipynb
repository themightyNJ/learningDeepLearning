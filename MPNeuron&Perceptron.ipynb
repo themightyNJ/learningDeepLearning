{
  "nbformat": 4,
  "nbformat_minor": 0,
  "metadata": {
    "colab": {
      "name": "MPNeuron&Perceptron.ipynb",
      "provenance": [],
      "collapsed_sections": [
        "CiDTTl1uDIh2",
        "Lis3bBEzDSp0",
        "SQ47U2JkDZGs",
        "oudKvBAJDlVl",
        "EdM0vBEsDsK-"
      ],
      "authorship_tag": "ABX9TyOB5KDr7Zr7FXTEXKgPZBiS",
      "include_colab_link": true
    },
    "kernelspec": {
      "name": "python3",
      "display_name": "Python 3"
    }
  },
  "cells": [
    {
      "cell_type": "markdown",
      "metadata": {
        "id": "view-in-github",
        "colab_type": "text"
      },
      "source": [
        "<a href=\"https://colab.research.google.com/github/themightyNJ/learningDeepLearning/blob/master/MPNeuron%26Perceptron.ipynb\" target=\"_parent\"><img src=\"https://colab.research.google.com/assets/colab-badge.svg\" alt=\"Open In Colab\"/></a>"
      ]
    },
    {
      "cell_type": "markdown",
      "metadata": {
        "id": "CiDTTl1uDIh2"
      },
      "source": [
        "# Dataset"
      ]
    },
    {
      "cell_type": "code",
      "metadata": {
        "id": "VO0fedXTAFZV"
      },
      "source": [
        "import numpy as np\n",
        "import sklearn.datasets"
      ],
      "execution_count": null,
      "outputs": []
    },
    {
      "cell_type": "code",
      "metadata": {
        "id": "Am4mjpkNARiG"
      },
      "source": [
        "breast_cancer = sklearn.datasets.load_breast_cancer()"
      ],
      "execution_count": null,
      "outputs": []
    },
    {
      "cell_type": "code",
      "metadata": {
        "id": "DkuepNkpAYFv"
      },
      "source": [
        "x = breast_cancer.data\n",
        "y = breast_cancer.target"
      ],
      "execution_count": null,
      "outputs": []
    },
    {
      "cell_type": "code",
      "metadata": {
        "id": "tmU5M7qUAkir",
        "colab": {
          "base_uri": "https://localhost:8080/"
        },
        "outputId": "a118b127-07e1-48be-d68d-a98a00e8c4c3"
      },
      "source": [
        "print(x,y)"
      ],
      "execution_count": null,
      "outputs": [
        {
          "output_type": "stream",
          "text": [
            "[[1.799e+01 1.038e+01 1.228e+02 ... 2.654e-01 4.601e-01 1.189e-01]\n",
            " [2.057e+01 1.777e+01 1.329e+02 ... 1.860e-01 2.750e-01 8.902e-02]\n",
            " [1.969e+01 2.125e+01 1.300e+02 ... 2.430e-01 3.613e-01 8.758e-02]\n",
            " ...\n",
            " [1.660e+01 2.808e+01 1.083e+02 ... 1.418e-01 2.218e-01 7.820e-02]\n",
            " [2.060e+01 2.933e+01 1.401e+02 ... 2.650e-01 4.087e-01 1.240e-01]\n",
            " [7.760e+00 2.454e+01 4.792e+01 ... 0.000e+00 2.871e-01 7.039e-02]] [0 0 0 0 0 0 0 0 0 0 0 0 0 0 0 0 0 0 0 1 1 1 0 0 0 0 0 0 0 0 0 0 0 0 0 0 0\n",
            " 1 0 0 0 0 0 0 0 0 1 0 1 1 1 1 1 0 0 1 0 0 1 1 1 1 0 1 0 0 1 1 1 1 0 1 0 0\n",
            " 1 0 1 0 0 1 1 1 0 0 1 0 0 0 1 1 1 0 1 1 0 0 1 1 1 0 0 1 1 1 1 0 1 1 0 1 1\n",
            " 1 1 1 1 1 1 0 0 0 1 0 0 1 1 1 0 0 1 0 1 0 0 1 0 0 1 1 0 1 1 0 1 1 1 1 0 1\n",
            " 1 1 1 1 1 1 1 1 0 1 1 1 1 0 0 1 0 1 1 0 0 1 1 0 0 1 1 1 1 0 1 1 0 0 0 1 0\n",
            " 1 0 1 1 1 0 1 1 0 0 1 0 0 0 0 1 0 0 0 1 0 1 0 1 1 0 1 0 0 0 0 1 1 0 0 1 1\n",
            " 1 0 1 1 1 1 1 0 0 1 1 0 1 1 0 0 1 0 1 1 1 1 0 1 1 1 1 1 0 1 0 0 0 0 0 0 0\n",
            " 0 0 0 0 0 0 0 1 1 1 1 1 1 0 1 0 1 1 0 1 1 0 1 0 0 1 1 1 1 1 1 1 1 1 1 1 1\n",
            " 1 0 1 1 0 1 0 1 1 1 1 1 1 1 1 1 1 1 1 1 1 0 1 1 1 0 1 0 1 1 1 1 0 0 0 1 1\n",
            " 1 1 0 1 0 1 0 1 1 1 0 1 1 1 1 1 1 1 0 0 0 1 1 1 1 1 1 1 1 1 1 1 0 0 1 0 0\n",
            " 0 1 0 0 1 1 1 1 1 0 1 1 1 1 1 0 1 1 1 0 1 1 0 0 1 1 1 1 1 1 0 1 1 1 1 1 1\n",
            " 1 0 1 1 1 1 1 0 1 1 0 1 1 1 1 1 1 1 1 1 1 1 1 0 1 0 0 1 0 1 1 1 1 1 0 1 1\n",
            " 0 1 0 1 1 0 1 0 1 1 1 1 1 1 1 1 0 0 1 1 1 1 1 1 0 1 1 1 1 1 1 1 1 1 1 0 1\n",
            " 1 1 1 1 1 1 0 1 0 1 1 0 1 1 1 1 1 0 0 1 0 1 0 1 1 1 1 1 0 1 1 0 1 0 1 0 0\n",
            " 1 1 1 0 1 1 1 1 1 1 1 1 1 1 1 0 1 0 0 1 1 1 1 1 1 1 1 1 1 1 1 1 1 1 1 1 1\n",
            " 1 1 1 1 1 1 1 0 0 0 0 0 0 1]\n"
          ],
          "name": "stdout"
        }
      ]
    },
    {
      "cell_type": "code",
      "metadata": {
        "colab": {
          "base_uri": "https://localhost:8080/"
        },
        "id": "ksSjIeNeAzvr",
        "outputId": "b1d2ab75-0f02-4ee1-990c-7ca47997674d"
      },
      "source": [
        "print(x.shape, y.shape)"
      ],
      "execution_count": null,
      "outputs": [
        {
          "output_type": "stream",
          "text": [
            "(569, 30) (569,)\n"
          ],
          "name": "stdout"
        }
      ]
    },
    {
      "cell_type": "code",
      "metadata": {
        "id": "x0D1kjy5A48d"
      },
      "source": [
        "import pandas as pd"
      ],
      "execution_count": null,
      "outputs": []
    },
    {
      "cell_type": "code",
      "metadata": {
        "id": "4uWAD9lJBAyO"
      },
      "source": [
        "data = pd.DataFrame(breast_cancer.data , columns=breast_cancer.feature_names)\n",
        "data[\"class\"] = breast_cancer.target"
      ],
      "execution_count": null,
      "outputs": []
    },
    {
      "cell_type": "code",
      "metadata": {
        "colab": {
          "base_uri": "https://localhost:8080/"
        },
        "id": "SaNrqMY9Baqf",
        "outputId": "f3c96d2d-7830-40e3-ae37-58fac73cb041"
      },
      "source": [
        "data.head()"
      ],
      "execution_count": null,
      "outputs": [
        {
          "output_type": "execute_result",
          "data": {
            "text/html": [
              "<div>\n",
              "<style scoped>\n",
              "    .dataframe tbody tr th:only-of-type {\n",
              "        vertical-align: middle;\n",
              "    }\n",
              "\n",
              "    .dataframe tbody tr th {\n",
              "        vertical-align: top;\n",
              "    }\n",
              "\n",
              "    .dataframe thead th {\n",
              "        text-align: right;\n",
              "    }\n",
              "</style>\n",
              "<table border=\"1\" class=\"dataframe\">\n",
              "  <thead>\n",
              "    <tr style=\"text-align: right;\">\n",
              "      <th></th>\n",
              "      <th>mean radius</th>\n",
              "      <th>mean texture</th>\n",
              "      <th>mean perimeter</th>\n",
              "      <th>mean area</th>\n",
              "      <th>mean smoothness</th>\n",
              "      <th>mean compactness</th>\n",
              "      <th>mean concavity</th>\n",
              "      <th>mean concave points</th>\n",
              "      <th>mean symmetry</th>\n",
              "      <th>mean fractal dimension</th>\n",
              "      <th>radius error</th>\n",
              "      <th>texture error</th>\n",
              "      <th>perimeter error</th>\n",
              "      <th>area error</th>\n",
              "      <th>smoothness error</th>\n",
              "      <th>compactness error</th>\n",
              "      <th>concavity error</th>\n",
              "      <th>concave points error</th>\n",
              "      <th>symmetry error</th>\n",
              "      <th>fractal dimension error</th>\n",
              "      <th>worst radius</th>\n",
              "      <th>worst texture</th>\n",
              "      <th>worst perimeter</th>\n",
              "      <th>worst area</th>\n",
              "      <th>worst smoothness</th>\n",
              "      <th>worst compactness</th>\n",
              "      <th>worst concavity</th>\n",
              "      <th>worst concave points</th>\n",
              "      <th>worst symmetry</th>\n",
              "      <th>worst fractal dimension</th>\n",
              "      <th>class</th>\n",
              "    </tr>\n",
              "  </thead>\n",
              "  <tbody>\n",
              "    <tr>\n",
              "      <th>0</th>\n",
              "      <td>17.99</td>\n",
              "      <td>10.38</td>\n",
              "      <td>122.80</td>\n",
              "      <td>1001.0</td>\n",
              "      <td>0.11840</td>\n",
              "      <td>0.27760</td>\n",
              "      <td>0.3001</td>\n",
              "      <td>0.14710</td>\n",
              "      <td>0.2419</td>\n",
              "      <td>0.07871</td>\n",
              "      <td>1.0950</td>\n",
              "      <td>0.9053</td>\n",
              "      <td>8.589</td>\n",
              "      <td>153.40</td>\n",
              "      <td>0.006399</td>\n",
              "      <td>0.04904</td>\n",
              "      <td>0.05373</td>\n",
              "      <td>0.01587</td>\n",
              "      <td>0.03003</td>\n",
              "      <td>0.006193</td>\n",
              "      <td>25.38</td>\n",
              "      <td>17.33</td>\n",
              "      <td>184.60</td>\n",
              "      <td>2019.0</td>\n",
              "      <td>0.1622</td>\n",
              "      <td>0.6656</td>\n",
              "      <td>0.7119</td>\n",
              "      <td>0.2654</td>\n",
              "      <td>0.4601</td>\n",
              "      <td>0.11890</td>\n",
              "      <td>0</td>\n",
              "    </tr>\n",
              "    <tr>\n",
              "      <th>1</th>\n",
              "      <td>20.57</td>\n",
              "      <td>17.77</td>\n",
              "      <td>132.90</td>\n",
              "      <td>1326.0</td>\n",
              "      <td>0.08474</td>\n",
              "      <td>0.07864</td>\n",
              "      <td>0.0869</td>\n",
              "      <td>0.07017</td>\n",
              "      <td>0.1812</td>\n",
              "      <td>0.05667</td>\n",
              "      <td>0.5435</td>\n",
              "      <td>0.7339</td>\n",
              "      <td>3.398</td>\n",
              "      <td>74.08</td>\n",
              "      <td>0.005225</td>\n",
              "      <td>0.01308</td>\n",
              "      <td>0.01860</td>\n",
              "      <td>0.01340</td>\n",
              "      <td>0.01389</td>\n",
              "      <td>0.003532</td>\n",
              "      <td>24.99</td>\n",
              "      <td>23.41</td>\n",
              "      <td>158.80</td>\n",
              "      <td>1956.0</td>\n",
              "      <td>0.1238</td>\n",
              "      <td>0.1866</td>\n",
              "      <td>0.2416</td>\n",
              "      <td>0.1860</td>\n",
              "      <td>0.2750</td>\n",
              "      <td>0.08902</td>\n",
              "      <td>0</td>\n",
              "    </tr>\n",
              "    <tr>\n",
              "      <th>2</th>\n",
              "      <td>19.69</td>\n",
              "      <td>21.25</td>\n",
              "      <td>130.00</td>\n",
              "      <td>1203.0</td>\n",
              "      <td>0.10960</td>\n",
              "      <td>0.15990</td>\n",
              "      <td>0.1974</td>\n",
              "      <td>0.12790</td>\n",
              "      <td>0.2069</td>\n",
              "      <td>0.05999</td>\n",
              "      <td>0.7456</td>\n",
              "      <td>0.7869</td>\n",
              "      <td>4.585</td>\n",
              "      <td>94.03</td>\n",
              "      <td>0.006150</td>\n",
              "      <td>0.04006</td>\n",
              "      <td>0.03832</td>\n",
              "      <td>0.02058</td>\n",
              "      <td>0.02250</td>\n",
              "      <td>0.004571</td>\n",
              "      <td>23.57</td>\n",
              "      <td>25.53</td>\n",
              "      <td>152.50</td>\n",
              "      <td>1709.0</td>\n",
              "      <td>0.1444</td>\n",
              "      <td>0.4245</td>\n",
              "      <td>0.4504</td>\n",
              "      <td>0.2430</td>\n",
              "      <td>0.3613</td>\n",
              "      <td>0.08758</td>\n",
              "      <td>0</td>\n",
              "    </tr>\n",
              "    <tr>\n",
              "      <th>3</th>\n",
              "      <td>11.42</td>\n",
              "      <td>20.38</td>\n",
              "      <td>77.58</td>\n",
              "      <td>386.1</td>\n",
              "      <td>0.14250</td>\n",
              "      <td>0.28390</td>\n",
              "      <td>0.2414</td>\n",
              "      <td>0.10520</td>\n",
              "      <td>0.2597</td>\n",
              "      <td>0.09744</td>\n",
              "      <td>0.4956</td>\n",
              "      <td>1.1560</td>\n",
              "      <td>3.445</td>\n",
              "      <td>27.23</td>\n",
              "      <td>0.009110</td>\n",
              "      <td>0.07458</td>\n",
              "      <td>0.05661</td>\n",
              "      <td>0.01867</td>\n",
              "      <td>0.05963</td>\n",
              "      <td>0.009208</td>\n",
              "      <td>14.91</td>\n",
              "      <td>26.50</td>\n",
              "      <td>98.87</td>\n",
              "      <td>567.7</td>\n",
              "      <td>0.2098</td>\n",
              "      <td>0.8663</td>\n",
              "      <td>0.6869</td>\n",
              "      <td>0.2575</td>\n",
              "      <td>0.6638</td>\n",
              "      <td>0.17300</td>\n",
              "      <td>0</td>\n",
              "    </tr>\n",
              "    <tr>\n",
              "      <th>4</th>\n",
              "      <td>20.29</td>\n",
              "      <td>14.34</td>\n",
              "      <td>135.10</td>\n",
              "      <td>1297.0</td>\n",
              "      <td>0.10030</td>\n",
              "      <td>0.13280</td>\n",
              "      <td>0.1980</td>\n",
              "      <td>0.10430</td>\n",
              "      <td>0.1809</td>\n",
              "      <td>0.05883</td>\n",
              "      <td>0.7572</td>\n",
              "      <td>0.7813</td>\n",
              "      <td>5.438</td>\n",
              "      <td>94.44</td>\n",
              "      <td>0.011490</td>\n",
              "      <td>0.02461</td>\n",
              "      <td>0.05688</td>\n",
              "      <td>0.01885</td>\n",
              "      <td>0.01756</td>\n",
              "      <td>0.005115</td>\n",
              "      <td>22.54</td>\n",
              "      <td>16.67</td>\n",
              "      <td>152.20</td>\n",
              "      <td>1575.0</td>\n",
              "      <td>0.1374</td>\n",
              "      <td>0.2050</td>\n",
              "      <td>0.4000</td>\n",
              "      <td>0.1625</td>\n",
              "      <td>0.2364</td>\n",
              "      <td>0.07678</td>\n",
              "      <td>0</td>\n",
              "    </tr>\n",
              "  </tbody>\n",
              "</table>\n",
              "</div>"
            ],
            "text/plain": [
              "   mean radius  mean texture  ...  worst fractal dimension  class\n",
              "0        17.99         10.38  ...                  0.11890      0\n",
              "1        20.57         17.77  ...                  0.08902      0\n",
              "2        19.69         21.25  ...                  0.08758      0\n",
              "3        11.42         20.38  ...                  0.17300      0\n",
              "4        20.29         14.34  ...                  0.07678      0\n",
              "\n",
              "[5 rows x 31 columns]"
            ]
          },
          "metadata": {
            "tags": []
          },
          "execution_count": 138
        }
      ]
    },
    {
      "cell_type": "code",
      "metadata": {
        "colab": {
          "base_uri": "https://localhost:8080/"
        },
        "id": "JdRddhTcBjSa",
        "outputId": "82e908be-ea46-4710-80c8-1b4e91f2e1be"
      },
      "source": [
        "print(data[\"class\"].value_counts())"
      ],
      "execution_count": null,
      "outputs": [
        {
          "output_type": "stream",
          "text": [
            "1    357\n",
            "0    212\n",
            "Name: class, dtype: int64\n"
          ],
          "name": "stdout"
        }
      ]
    },
    {
      "cell_type": "markdown",
      "metadata": {
        "id": "Lis3bBEzDSp0"
      },
      "source": [
        "# Data Manipulation"
      ]
    },
    {
      "cell_type": "code",
      "metadata": {
        "id": "sE_dL71nB4pp"
      },
      "source": [
        "from sklearn.model_selection import train_test_split"
      ],
      "execution_count": null,
      "outputs": []
    },
    {
      "cell_type": "code",
      "metadata": {
        "id": "MAX07KOLKe58"
      },
      "source": [
        "X = data.drop(\"class\", axis=1)\n",
        "Y = data[\"class\"]"
      ],
      "execution_count": null,
      "outputs": []
    },
    {
      "cell_type": "code",
      "metadata": {
        "id": "54Sf_UuiLrM4"
      },
      "source": [
        "X_train, X_test, Y_train, Y_test = train_test_split(X,Y, test_size = 0.2, stratify = Y)"
      ],
      "execution_count": null,
      "outputs": []
    },
    {
      "cell_type": "code",
      "metadata": {
        "id": "9jYtbAKOMQKP"
      },
      "source": [
        "import matplotlib.pyplot as plt"
      ],
      "execution_count": null,
      "outputs": []
    },
    {
      "cell_type": "code",
      "metadata": {
        "colab": {
          "base_uri": "https://localhost:8080/"
        },
        "id": "rVNhnxhyMuH7",
        "outputId": "2a3776e5-94e4-4eda-9f33-a9b29534ef5d"
      },
      "source": [
        "plt.plot(X_train.T, \"*\")\n",
        "plt.xticks(rotation='vertical')\n",
        "plt.show()"
      ],
      "execution_count": null,
      "outputs": [
        {
          "output_type": "display_data",
          "data": {
            "image/png": "[encoded data removed]",
            "text/plain": [
              "<Figure size 432x288 with 1 Axes>"
            ]
          },
          "metadata": {
            "tags": [],
            "needs_background": "light"
          }
        }
      ]
    },
    {
      "cell_type": "code",
      "metadata": {
        "id": "uCZBySRyM03a"
      },
      "source": [
        "X_train_binarised = X_train.apply(pd.cut, bins = 2, labels = [1,0])"
      ],
      "execution_count": null,
      "outputs": []
    },
    {
      "cell_type": "code",
      "metadata": {
        "colab": {
          "base_uri": "https://localhost:8080/"
        },
        "id": "Gw3hQEFdPeWn",
        "outputId": "8e6584dc-167a-4d4e-f506-7bff4bc697df"
      },
      "source": [
        "plt.plot(X_train_binarised.T, \"*\")\n",
        "plt.xticks(rotation='vertical')\n",
        "plt.show()"
      ],
      "execution_count": null,
      "outputs": [
        {
          "output_type": "display_data",
          "data": {
            "image/png": "[encoded data removed]",
            "text/plain": [
              "<Figure size 432x288 with 1 Axes>"
            ]
          },
          "metadata": {
            "tags": [],
            "needs_background": "light"
          }
        }
      ]
    },
    {
      "cell_type": "code",
      "metadata": {
        "id": "zM9CnIoxPgLg"
      },
      "source": [
        "X_test_binarised = X_test.apply(pd.cut, bins = 2, labels = [1,0])"
      ],
      "execution_count": null,
      "outputs": []
    },
    {
      "cell_type": "code",
      "metadata": {
        "id": "29h9yQBbQBi5"
      },
      "source": [
        "X_train_binarised = X_train_binarised.values\n",
        "X_test_binarised = X_test_binarised.values"
      ],
      "execution_count": null,
      "outputs": []
    },
    {
      "cell_type": "markdown",
      "metadata": {
        "id": "SQ47U2JkDZGs"
      },
      "source": [
        "# MPNeuron"
      ]
    },
    {
      "cell_type": "code",
      "metadata": {
        "id": "4mBe05f0RIkn",
        "colab": {
          "base_uri": "https://localhost:8080/"
        },
        "outputId": "fb18ccb4-f0e3-456d-b22d-00fddf2fd520"
      },
      "source": [
        "for b in range(X_train_binarised.shape[1]+1):\n",
        "    Y_pred_train = []\n",
        "    accurate_rows = 0\n",
        "\n",
        "    for x,y in zip(X_train_binarised, Y_train):\n",
        "        Y_pred = (np.sum(x) >= b)\n",
        "        Y_pred_train.append(Y_pred)\n",
        "        accurate_rows += (y == Y_pred)\n",
        "\n",
        "    print(b , accurate_rows/X_train_binarised.shape[0])"
      ],
      "execution_count": null,
      "outputs": [
        {
          "output_type": "stream",
          "text": [
            "0 0.6263736263736264\n",
            "1 0.6263736263736264\n",
            "2 0.6263736263736264\n",
            "3 0.6263736263736264\n",
            "4 0.6263736263736264\n",
            "5 0.6263736263736264\n",
            "6 0.6263736263736264\n",
            "7 0.6263736263736264\n",
            "8 0.6263736263736264\n",
            "9 0.6263736263736264\n",
            "10 0.6263736263736264\n",
            "11 0.6263736263736264\n",
            "12 0.6263736263736264\n",
            "13 0.6285714285714286\n",
            "14 0.6307692307692307\n",
            "15 0.6373626373626373\n",
            "16 0.6417582417582418\n",
            "17 0.6505494505494506\n",
            "18 0.6593406593406593\n",
            "19 0.6637362637362637\n",
            "20 0.6681318681318681\n",
            "21 0.6945054945054945\n",
            "22 0.7142857142857143\n",
            "23 0.7406593406593407\n",
            "24 0.7758241758241758\n",
            "25 0.8\n",
            "26 0.8131868131868132\n",
            "27 0.832967032967033\n",
            "28 0.8417582417582418\n",
            "29 0.810989010989011\n",
            "30 0.7406593406593407\n"
          ],
          "name": "stdout"
        }
      ]
    },
    {
      "cell_type": "code",
      "metadata": {
        "colab": {
          "base_uri": "https://localhost:8080/"
        },
        "id": "GfWZe2F5z6Mo",
        "outputId": "22486ef6-9222-4f92-872c-bca9b6d76700"
      },
      "source": [
        "from sklearn.metrics import accuracy_score\n",
        "\n",
        "b = 27\n",
        "\n",
        "Y_pred_test = []\n",
        "for x in X_test_binarised:\n",
        "    Y_pred = (np.sum(x) >= b)\n",
        "    Y_pred_test.append(Y_pred)\n",
        "\n",
        "accuracy = accuracy_score(Y_pred_test, Y_test)\n",
        "\n",
        "print(b , accuracy)"
      ],
      "execution_count": null,
      "outputs": [
        {
          "output_type": "stream",
          "text": [
            "27 0.8508771929824561\n"
          ],
          "name": "stdout"
        }
      ]
    },
    {
      "cell_type": "markdown",
      "metadata": {
        "id": "oudKvBAJDlVl"
      },
      "source": [
        "# MPNeuron using Class"
      ]
    },
    {
      "cell_type": "code",
      "metadata": {
        "id": "zk74vAvW0ztn"
      },
      "source": [
        "class MPNeuron:\n",
        "    def __init__(self):\n",
        "        self.b = None\n",
        "\n",
        "    def model(self, x):\n",
        "        return (sum(x) >= self.b)\n",
        "\n",
        "    def predict(self, X):\n",
        "        Y = []\n",
        "        for x in X:\n",
        "            result = self.model(x)\n",
        "            Y.append(result)\n",
        "        return np.array(Y)\n",
        "\n",
        "    def fit(self, X, Y):\n",
        "        accuracy = {}\n",
        "        for b in range(X.shape[1]+1):\n",
        "            self.b = b\n",
        "            Y_pred = self.predict(X) \n",
        "            accuracy[b] = accuracy_score(Y_pred,Y)\n",
        "        \n",
        "        best_b = max(accuracy, key = accuracy.get)\n",
        "        self.b = best_b\n",
        "\n",
        "        print(\"Optimal value of b is \", best_b)\n",
        "        print(\"Highest accuracy is \", accuracy[best_b])\n"
      ],
      "execution_count": null,
      "outputs": []
    },
    {
      "cell_type": "code",
      "metadata": {
        "colab": {
          "base_uri": "https://localhost:8080/"
        },
        "id": "WXf8jg-UBnnm",
        "outputId": "6822932d-cf8c-4323-b8a8-68f5113a45b9"
      },
      "source": [
        "mp_neuron = MPNeuron()\n",
        "mp_neuron.fit(X_train_binarised, Y_train)"
      ],
      "execution_count": null,
      "outputs": [
        {
          "output_type": "stream",
          "text": [
            "Optimal value of b is  28\n",
            "Highest accuracy is  0.8417582417582418\n"
          ],
          "name": "stdout"
        }
      ]
    },
    {
      "cell_type": "code",
      "metadata": {
        "colab": {
          "base_uri": "https://localhost:8080/"
        },
        "id": "M5BllpLF97wZ",
        "outputId": "e17a562c-e45b-41b0-d336-b80085d7e34f"
      },
      "source": [
        "X_train_binarised.shape"
      ],
      "execution_count": null,
      "outputs": [
        {
          "output_type": "execute_result",
          "data": {
            "text/plain": [
              "(455, 30)"
            ]
          },
          "metadata": {
            "tags": []
          },
          "execution_count": 153
        }
      ]
    },
    {
      "cell_type": "code",
      "metadata": {
        "colab": {
          "base_uri": "https://localhost:8080/"
        },
        "id": "BrJdkUwtCANg",
        "outputId": "b9956b88-47b2-4381-9f65-b05419e8713f"
      },
      "source": [
        "Y_test_pred = mp_neuron.predict(X_test_binarised)\n",
        "accuracy_test = accuracy_score(Y_test_pred, Y_test)\n",
        "print(accuracy_test)"
      ],
      "execution_count": null,
      "outputs": [
        {
          "output_type": "stream",
          "text": [
            "0.8157894736842105\n"
          ],
          "name": "stdout"
        }
      ]
    },
    {
      "cell_type": "markdown",
      "metadata": {
        "id": "EdM0vBEsDsK-"
      },
      "source": [
        "# Perceptron\n",
        "\n",
        "$y = 1, \\mbox{if} \\sum_i w_i x_i >= b$\n",
        "\n",
        "$y = 0, \\mbox{otherwise}$"
      ]
    },
    {
      "cell_type": "code",
      "metadata": {
        "id": "k4cma5OyClOC"
      },
      "source": [
        "class Perceptron:\n",
        "\n",
        "    def __init__(self):\n",
        "        self.w = None\n",
        "        self.b = None\n",
        "\n",
        "    def model(self, x):\n",
        "        return 1 if (np.dot(self.w, x.astype(float)) >= self.b) else 0\n",
        "\n",
        "    def predict(self, X):\n",
        "        Y = []\n",
        "        for x in X:\n",
        "            result = self.model(x)\n",
        "            Y.append(result)\n",
        "\n",
        "        return np.array(Y)\n",
        "\n",
        "    def fit(self, X,Y):\n",
        "        self.w = np.ones(X.shape[1])\n",
        "        self.b = 0\n",
        "        for x,y in zip(X,Y):\n",
        "            y_pred = self.model(x)\n",
        "            if y == 1 and y_pred == 0:\n",
        "                self.w += x\n",
        "                self.b += 1\n",
        "            elif y == 0 and y_pred == 1:\n",
        "                self.w -= x\n",
        "                self.b -= 1"
      ],
      "execution_count": null,
      "outputs": []
    },
    {
      "cell_type": "code",
      "metadata": {
        "id": "UwFaLE3RiUxE"
      },
      "source": [
        "perceptron = Perceptron()"
      ],
      "execution_count": null,
      "outputs": []
    },
    {
      "cell_type": "code",
      "metadata": {
        "id": "XE25voybisCf"
      },
      "source": [
        "x_train = X_train.values\n",
        "x_test = X_test.values"
      ],
      "execution_count": null,
      "outputs": []
    },
    {
      "cell_type": "code",
      "metadata": {
        "id": "iHAkVNUljAHA"
      },
      "source": [
        "perceptron.fit(x_train, Y_train)"
      ],
      "execution_count": null,
      "outputs": []
    },
    {
      "cell_type": "code",
      "metadata": {
        "id": "NcnLOJXTjS2L",
        "colab": {
          "base_uri": "https://localhost:8080/"
        },
        "outputId": "9ca68c60-e5dd-4114-9b0d-d5895d470750"
      },
      "source": [
        "Y_pred_test = perceptron.predict(x_test)\n",
        "print(accuracy_score(Y_pred_test, Y_test))"
      ],
      "execution_count": null,
      "outputs": [
        {
          "output_type": "stream",
          "text": [
            "0.9035087719298246\n"
          ],
          "name": "stdout"
        }
      ]
    },
    {
      "cell_type": "code",
      "metadata": {
        "id": "N26eLP_Yj-lg"
      },
      "source": [
        ""
      ],
      "execution_count": null,
      "outputs": []
    },
    {
      "cell_type": "code",
      "metadata": {
        "id": "3c7rxH7-mtMC"
      },
      "source": [
        ""
      ],
      "execution_count": null,
      "outputs": []
    },
    {
      "cell_type": "markdown",
      "metadata": {
        "id": "8nO68ywdx4oQ"
      },
      "source": [
        "# Perceptron with Epochs"
      ]
    },
    {
      "cell_type": "code",
      "metadata": {
        "id": "TAhaTDimx9BV"
      },
      "source": [
        "class Perceptron:\n",
        "\n",
        "    def __init__(self):\n",
        "        self.w = None\n",
        "        self.b = None\n",
        "\n",
        "    def model(self, x):\n",
        "        return 1 if (np.dot(self.w, x.astype(float)) >= self.b) else 0\n",
        "\n",
        "    def predict(self, X):\n",
        "        Y = []\n",
        "        for x in X:\n",
        "            result = self.model(x)\n",
        "            Y.append(result)\n",
        "\n",
        "        return np.array(Y)\n",
        "\n",
        "    def fit(self, X,Y, epochs = 5, lr = 1):\n",
        "        self.w = np.ones(X.shape[1])\n",
        "        self.b = 0\n",
        "\n",
        "        accuracy = {}\n",
        "        max_accuracy = 0\n",
        "\n",
        "        wt_matrix = []\n",
        "\n",
        "        for i in range(epochs):\n",
        "            for x,y in zip(X,Y):\n",
        "                y_pred = self.model(x)\n",
        "                if y == 1 and y_pred == 0:\n",
        "                    self.w += lr * x\n",
        "                    self.b += lr * 1\n",
        "                elif y == 0 and y_pred == 1:\n",
        "                    self.w -= lr * x\n",
        "                    self.b -= lr * 1\n",
        "\n",
        "            wt_matrix.append(self.w)\n",
        "\n",
        "            accuracy[i] = accuracy_score(self.predict(X),Y)\n",
        "            if accuracy[i] > max_accuracy:\n",
        "                max_accuracy = accuracy[i]\n",
        "                chkptw = self.w\n",
        "                chkptb = self.b\n",
        "        self.w = chkptw\n",
        "        self.b = chkptb\n",
        "        print(max_accuracy)\n",
        "        plt.plot(np.array(list(accuracy.values())))\n",
        "        plt.ylim([0,1])\n",
        "        plt.show()\n",
        "\n",
        "        return np.array(wt_matrix)"
      ],
      "execution_count": null,
      "outputs": []
    },
    {
      "cell_type": "code",
      "metadata": {
        "id": "2w15LX8nyB9W"
      },
      "source": [
        "perceptron = Perceptron()"
      ],
      "execution_count": null,
      "outputs": []
    },
    {
      "cell_type": "code",
      "metadata": {
        "colab": {
          "base_uri": "https://localhost:8080/",
          "height": 286
        },
        "id": "EeGwOggVyFF-",
        "outputId": "11f499a7-56c7-48cf-fffa-32a8e3c5167c"
      },
      "source": [
        "wt_matrix = perceptron.fit(x_train, Y_train, 100, 0.01)"
      ],
      "execution_count": null,
      "outputs": [
        {
          "output_type": "stream",
          "text": [
            "0.9186813186813186\n"
          ],
          "name": "stdout"
        },
        {
          "output_type": "display_data",
          "data": {
            "image/png": "[encoded data removed]",
            "text/plain": [
              "<Figure size 432x288 with 1 Axes>"
            ]
          },
          "metadata": {
            "tags": [],
            "needs_background": "light"
          }
        }
      ]
    },
    {
      "cell_type": "code",
      "metadata": {
        "colab": {
          "base_uri": "https://localhost:8080/"
        },
        "id": "qwNZKEZoyHn7",
        "outputId": "ed678e0e-38a3-4e5a-caf3-9398431fc15e"
      },
      "source": [
        "Y_pred_test = perceptron.predict(x_test)\n",
        "print(accuracy_score(Y_pred_test, Y_test))"
      ],
      "execution_count": null,
      "outputs": [
        {
          "output_type": "stream",
          "text": [
            "0.9210526315789473\n"
          ],
          "name": "stdout"
        }
      ]
    },
    {
      "cell_type": "markdown",
      "metadata": {
        "id": "Fy4PWz17M0uO"
      },
      "source": [
        "# Animating Weights"
      ]
    },
    {
      "cell_type": "code",
      "metadata": {
        "id": "xKZYy1IzPsNM"
      },
      "source": [
        "%matplotlib inline"
      ],
      "execution_count": null,
      "outputs": []
    },
    {
      "cell_type": "code",
      "metadata": {
        "id": "N2lZ9w44y09Q",
        "colab": {
          "base_uri": "https://localhost:8080/",
          "height": 265
        },
        "outputId": "70c82544-161d-438f-ad9b-56371f4120c2"
      },
      "source": [
        "plt.plot(wt_matrix[-1,:])\n",
        "plt.show()"
      ],
      "execution_count": null,
      "outputs": [
        {
          "output_type": "display_data",
          "data": {
            "image/png": "[encoded data removed]",
            "text/plain": [
              "<Figure size 432x288 with 1 Axes>"
            ]
          },
          "metadata": {
            "tags": [],
            "needs_background": "light"
          }
        }
      ]
    },
    {
      "cell_type": "code",
      "metadata": {
        "id": "IYUP5X5ZM94d"
      },
      "source": [
        "from matplotlib import animation, rc\n",
        "from IPython.display import HTML"
      ],
      "execution_count": null,
      "outputs": []
    },
    {
      "cell_type": "code",
      "metadata": {
        "colab": {
          "base_uri": "https://localhost:8080/",
          "height": 269
        },
        "id": "P0wy3cBoPwNc",
        "outputId": "d8c6b916-1d6d-4d77-b742-e18350c5c2d8"
      },
      "source": [
        "# First set up the figure, the axis, and the plot element we want to animate\n",
        "fig, ax = plt.subplots()\n",
        "ax.set_xlim(( 0, wt_matrix.shape[1]))\n",
        "ax.set_ylim((-200,200))\n",
        "\n",
        "line, = ax.plot([], [], lw=2)"
      ],
      "execution_count": null,
      "outputs": [
        {
          "output_type": "display_data",
          "data": {
            "image/png": "[encoded data removed]",
            "text/plain": [
              "<Figure size 432x288 with 1 Axes>"
            ]
          },
          "metadata": {
            "tags": [],
            "needs_background": "light"
          }
        }
      ]
    },
    {
      "cell_type": "code",
      "metadata": {
        "id": "EyxVcFY7UIG9"
      },
      "source": [
        "# initialization function: plot the background of each frame\n",
        "def init():\n",
        "    line.set_data([], [])\n",
        "    return (line,)"
      ],
      "execution_count": null,
      "outputs": []
    },
    {
      "cell_type": "code",
      "metadata": {
        "id": "-PREvK6_QGIL"
      },
      "source": [
        "# animation function. This is called sequentially\n",
        "def animate(i):\n",
        "    x = list(range(wt_matrix.shape[1]))\n",
        "    y = wt_matrix[i,:]\n",
        "    line.set_data(x, y)\n",
        "    return (line,)"
      ],
      "execution_count": null,
      "outputs": []
    },
    {
      "cell_type": "code",
      "metadata": {
        "id": "nnK6GtVAQL8u"
      },
      "source": [
        "# call the animator. blit=True means only re-draw the parts that have changed.\n",
        "anim = animation.FuncAnimation(fig, animate, frames=100, interval=200, blit=True)"
      ],
      "execution_count": null,
      "outputs": []
    },
    {
      "cell_type": "code",
      "metadata": {
        "colab": {
          "base_uri": "https://localhost:8080/",
          "height": 309
        },
        "id": "qKjXcooQQMzq",
        "outputId": "e9ccc488-56ee-427e-e87b-c3d3f0e603cc"
      },
      "source": [
        "HTML(anim.to_html5_video())"
      ],
      "execution_count": null,
      "outputs": [
        {
          "output_type": "execute_result",
          "data": {
            "text/html": [
              "<video width=\"432\" height=\"288\" controls autoplay loop>\n",
              "  <source type=\"video/mp4\" src=\"data:video/mp4;base64,AAAAHGZ0eXBNNFYgAAACAGlzb21pc28yYXZjMQAAAAhmcmVlAAAn0m1kYXQAAAKtBgX//6ncRem9\n",
              "5tlIt5Ys2CDZI+7veDI2NCAtIGNvcmUgMTUyIHIyODU0IGU5YTU5MDMgLSBILjI2NC9NUEVHLTQg\n",
              "QVZDIGNvZGVjIC0gQ29weWxlZnQgMjAwMy0yMDE3IC0gaHR0cDovL3d3dy52aWRlb2xhbi5vcmcv\n",
              "eDI2NC5odG1sIC0gb3B0aW9uczogY2FiYWM9MSByZWY9MyBkZWJsb2NrPTE6MDowIGFuYWx5c2U9\n",
              "MHgzOjB4MTEzIG1lPWhleCBzdWJtZT03IHBzeT0xIHBzeV9yZD0xLjAwOjAuMDAgbWl4ZWRfcmVm\n",
              "PTEgbWVfcmFuZ2U9MTYgY2hyb21hX21lPTEgdHJlbGxpcz0xIDh4OGRjdD0xIGNxbT0wIGRlYWR6\n",
              "b25lPTIxLDExIGZhc3RfcHNraXA9MSBjaHJvbWFfcXBfb2Zmc2V0PS0yIHRocmVhZHM9MyBsb29r\n",
              "YWhlYWRfdGhyZWFkcz0xIHNsaWNlZF90aHJlYWRzPTAgbnI9MCBkZWNpbWF0ZT0xIGludGVybGFj\n",
              "ZWQ9MCBibHVyYXlfY29tcGF0PTAgY29uc3RyYWluZWRfaW50cmE9MCBiZnJhbWVzPTMgYl9weXJh\n",
              "bWlkPTIgYl9hZGFwdD0xIGJfYmlhcz0wIGRpcmVjdD0xIHdlaWdodGI9MSBvcGVuX2dvcD0wIHdl\n",
              "aWdodHA9MiBrZXlpbnQ9MjUwIGtleWludF9taW49NSBzY2VuZWN1dD00MCBpbnRyYV9yZWZyZXNo\n",
              "PTAgcmNfbG9va2FoZWFkPTQwIHJjPWNyZiBtYnRyZWU9MSBjcmY9MjMuMCBxY29tcD0wLjYwIHFw\n",
              "bWluPTAgcXBtYXg9NjkgcXBzdGVwPTQgaXBfcmF0aW89MS40MCBhcT0xOjEuMDAAgAAAG99liIQA\n",
              "FP/+98dPwKbo+WbLnUU9ITCK2PpIKL1Y7NAydQAAAwAARTqf8HeHmA+I6z81IQFOiKpXvDlUJhHJ\n",
              "RyCBYNYmNkDc2Ov7Un/nn2mBtYtW9aec9e7t3xTzGLw350JM8rebHuS4X6yayTvsR7JDP4rizf91\n",
              "rxMAAg4yNhj35Sawm4+/i/rM7Iy+Cai1F+Je0rt55gsci34vLoJv6gpTRF4EYx+2NeH+ANkbTqfn\n",
              "A5LXaiYaxbRTIaKWUi0oowz1Y3otec0VKVCMaAVzG/fSsCSfrEJexhoK/Ad90ET8Uyvn1QleqOXm\n",
              "sOsPx05XvTBKVYAfLz5zCeEoUZHqTbS/NyqtDuNgP98/2Sr4ugOG/4FMZ16rMJuONi/agkAe01fP\n",
              "3OyIFfomLdbHcu9x3cUcY9WaHygbtIIy33UTos4f+rokxg2YJAl/uiZPdIrVVbPNGKxG14n+E3aW\n",
              "Zpbr9tkSG7f8arsNnvAX8aUVFEXzOUTmpEOBBJqyQ17fcwkxEMh3dkkqt32RHj4C5000+z+P3T8/\n",
              "yEKlkzgEiunwZ4bMvyN4cp/2KbqzJPVoJymmbZkv9kDkVnFg+7uJwOeaJsUC3R/86ARieFNzswWo\n",
              "XPnVzF0w5yJ4u83iPxWYTkm8mlz+vU1LApCA+iOu/584PhnTjDvcG60kSXSB6GRD6DfUGz9SVxNt\n",
              "daBcWgJ6fpKuiZ8/uf/BvpSe6fQbmwPWJyWrHaD2FByLd9cJr2v1O2iZ35e27vGH4vFB8+QHEV/X\n",
              "5BfavuQXHHE2Qwcp4ff7Gpx7ChWkFvR5gI6yICFD8iwGLcu5KIvQGUD5fTSqwsDn+SAuc8EzQgT5\n",
              "V0AMP9qLZ8UJXSSCbuDIkTVdFfubVyvnA+a1rzJdgM4fonTEpDRvswOE1EznO+Bw/XYjxbBhc4uC\n",
              "ABdFOE4qMmbEu9wDqegOjxNa6FCCAEV5KIIGnmcGKMZQ+BBfVgEeKQO8v1xGMcrMTQ7xqbebQLpS\n",
              "cM0+HFnawcvvRyOG5UNQAyWhjysgs9aR61MxDKvXecy0LSGmyFGVeDVAsBU5s5TKmvjk/643iXul\n",
              "3aGhXz8wZP7GDP4XagQOZ3MCRhhS6FedsNhriiOE87uKZn42VqRX8gmThUpYjd36PrxbD2YgKheU\n",
              "H5FyOthS7f76tirmX/qSsBVkGajkDg/D5/HfG6wa+w1cjzx8pT5+3iFXmyTDScPaeMAa5rbnOESt\n",
              "i94dHRG3FBMihBwDRD9igenGeiayQmFf0wvB43qHLdBeZk21euLphfD8yJ7vLfTNZ0Wbw8/L7nKV\n",
              "hyhX+sOv7EVlY6L9SDpWX/02YMF1uDg30GTbRZ3RXm8sSLExmnIZaugdg4D9nBphz/dkbfwWTWPZ\n",
              "wb7IMhvKMVG9IeYjStP+axehi7NkdP2NYigDIh8O+nZ7yrb6jlvFRyV6oSvLup8IdLZ/DoQGcbvt\n",
              "kDU1jlARqrpZqQaHZGym19/3kigVkveyn/Aq+onQRgRUfCvE5dBKtpFa7OBRM1De8IFf0k/Kh36i\n",
              "YpkZpZZ7cGvIK/C9x0W0lasX0a0w8cWtSAmwFByvHE25zpvhd8NGZtxIMu7mDO0dG3cmdUjjMLin\n",
              "8cnhlznY0ABPGLJCk25Mq71hCHagiNtMOo2fbylLHJ5VNVgrXvHGSq2mVfeTaQw2f/2MGldQ7JGn\n",
              "fA/V+bZN+GCBpJBX7zB6/rpSsAm7+E2RowCIw82nQAv48ZhYnpoBU+SAkTaPWbjDT3kPNI27F/s0\n",
              "YBQmbZhpsmchFgxaIflp8hNfVpfllbZ8DJWB/dXZS7rnZScjXrgsy7C6bl/hOT9kLGzx4bksIuLX\n",
              "WOJWbBskMn8jbUMe10uvXLIEZ568ytt+JcD4OkN5RESFY/qFlRx+R39CEADJxXb2iFA2ayHT2Av2\n",
              "rDFOgWpU/BN5djTqSd7xkAtAsRnFcpUELmIZDVrZ321HQQ4/MPX8OMi/1GoRZYu/zzOxztLmXsvX\n",
              "w+XlMw6yqR1cneQAL3AcEQ3a25LPW/D79oUEHwXrgyGpntOyjyCFLETmL84Jyk1OTMnbzg746RIr\n",
              "kCSc13GnTrXRZicv1BIvjIPfhIJoNCdfUbHrTPQMGifCTGBJ8EH9a3in11eV3kQc8abawIW2GC8h\n",
              "648+Xm7oqRWgtbXzyPHkvk4YkOQm+2dTm1tMOyV/4THcgZtWaBLwyI/4+lub5iCUfBydWfH7ooVK\n",
              "0TCmN7W6vxGc7l75K42tKqm65wd06W3GScgDQGhwxa+5tMsk83TYpW5efWCZB8F+YdRs0XjTYXQA\n",
              "HlOlgkSabW9Rylzi+VIV7BZVFfs6xM2jX1WaXBwcrRcf4TFqR3QUPT5JijctK8olkFpZOHSWIXMr\n",
              "h0XOZf870qbyqA9oTL41n/EPjGcScopvUFNk99Xmlv0Z06dF34hgSK40RJ6QsB9lxtuy1h6F9Yxi\n",
              "b3keZU/fdFqICdXaO7UzW3EW+9w6vtnF8JOfN4sgcg79TrXcHYb5wGsT86LQ5NV7/359cVXgPTR/\n",
              "p/wtHgknguuAAfKuTHD3UJKk6GziwJZdavBkDg8nqVPeq2Q6cJ7P3NPDI5ncu8gRiQrFZReSBfpe\n",
              "3SO5h1lRGMWSNXi8V3U5ge+N7/V0Hywc8w9j4gJBSrIDaFs9Gv8rJQgSFXAGW54LYO94zN1Hzz7L\n",
              "n608SML1xAhivGIpP+5uqbXEdKfVFFDmUkDVrMQIYi4C/LIrhgvB/uiHGOesaRn8btBaCMDjK7VY\n",
              "CK4j071hqT0MjNRdh2MvXU0iSM4Jzg4FTCqDTcqqGyFYcB+m4bwM73xYcOaaUXKiB79PkhtHJ6D8\n",
              "GwkoMph7BDGj9OiBL/iHKEzWgEMwOHfIBTLwXJ3wZ9krsiYJ6IHmNNuRi6696rKPuoQHxkGtqrnu\n",
              "6vX0f7dRDAExPGJb5/HOCYe0/aVIErAbRpViDucEi7tlr3IWghh3390CIWTQ1yj/x2HKwoPbUCEn\n",
              "CG943MKN3cT+UBksF2/LwToda7QPU/Z4t2sJ+rRLkliup6OzKCFrNcpRADpCTQwks0Lyj+SPy5LT\n",
              "6Qemj83xWSYWqssxVcxI/IeESD0bmN6o4pUPakZ2YiF5wGenhLvZfrqQJukNYLvJd78Kxcf9RC7q\n",
              "9zDdr43JWfrLgHjPeTibT3kYqPZVcnOes9hV8wNhuXT3zQcF0Vh3qxaPfD9seh78teLcTNRA22Vl\n",
              "Xnpc6tDnQUvJmVagNt2Em51ca9NilQsZWGWnLgUELQupVspvgObkwv2XEO0kAmd8LgFEZmEyO0eL\n",
              "9BLNOW8CkAL/ry3zOSXbgH0g03dHKA5BdLHatiJrBhd+staf9wDH92kGauWm6wKUIhdAZmSWyt38\n",
              "GZ2gqh/lh4K5k2Ip9ZVunk2exgnNx7zklC3Cc/IQWbAxn8RB1T3/kk40RutvqOOek742wSE9U41T\n",
              "Oqdouq67Fu6lkPKNZ/L1r+FCGVBZ10u4YTlC91AxfSFT/6yjVEWFvxaqngsnXWvQ1LLKZ54ExysV\n",
              "aJnPZUyYkov8tDsJXdiqc4Koq5x7GZmyvQM6R/SbSU/NS7H7ZMD/7WAk6jSiUlyn/KVRjQAv6pC5\n",
              "FJrSq4Q64c9RtE9xkqRGQ0x2u8KppUAuR409rjZnaqW2GwQ606gFJzqtOte8KUwlo7DjkZGs6EUn\n",
              "iSYj1KM2gWxaK94jIhM7X8XpWFbQcHOtGBwmRTiISo872GZuyQ5Cel74QhkFeQcVhykRdSivyHI4\n",
              "eVMn0GTMmGRKVgJsJZa94/p8ulu8DT0QYRnfQ5//ftXNViFMA2aMZ01fvbB9v95kEeMXFnUD53qS\n",
              "b/cH8LsFZfybnDrsn7b5pdcykdoyMpaZkjTLwAspyvCos1qMK/+xee7OkED/+s8JR7IinYJgUaVq\n",
              "OzoKnU4wCf9dUeWFrJXqQDIaRmnsC746DWzGyvdpl/TzD/23uj3tq2r/5jxf3U4DqWc86s9CbX5W\n",
              "ak66Sbp8GGmvnWUnOH/GqQYJAh0o+eRwjOBdl/FkmrlfpG5A5tkoQ+8izExKqX6mNHI5n5MSP//9\n",
              "fegZxYgNtXvhjz4XMaKfVEvdCfuDwQrLxK9wwQcROvoo6ONBgKjcPRRHOXup7EoTgIPxJzTZ3Pay\n",
              "jKZJKHudIAhqd+PwcF0rSQRCpo1ww8ve2NCxoXT4c+vShjt0K1XfWqNNe/4wko4EAEaSf4GbbEBh\n",
              "nchq0fXJaIDIxNN/tq69KK1KBCgp8qdHdiaZ91L7O6nkRcVlLKcHYeUf1dOiUBWPLrOElsQDQ2tK\n",
              "WSqhL9dXcseDzE/fstQ+lZKRqLZEgqeSTFck1G6cA2K7uwxlSV1r23/k4zqFufB2JSFXh8V9eQYE\n",
              "ia3KqF2yB685FsfCnYMUtuoSxLCY9NPXHYgq0q6YrbvPOd9F+4xfh18bRCRvZknklClAMq0BTixC\n",
              "Pv22+xR54NUKRprbIXGXQFsPMWbwNj8kJVPcUrdfMs+p1tCCap+AyD3nE/FJ38LeqvHrTt3O54Lq\n",
              "wLVymDK4fIeqL/IL0h/cdgC4atrTAluFpzzIMOqLEJXB333PvVOntHejsEAzBvgSG0I4P2YPKDp+\n",
              "06Xfqs+AwEg5dIXzBMJHZNjnhFOXm8yZeuQKwXw0YKAgESmwiYtp0MhukLdJYdEanzPouiuRKps6\n",
              "opsHL+jv3jK0YjdJe+BbEjJ1qwOQzmFl21CbpSMLQI94JHRSKB9hexj4S0yjeASmyH6sy2Q2jXLz\n",
              "7tL4fIooapnY/Iks/4uaasPxmwfWt7o2056VldeIuW3jgXI5pIgMLRMcGBiKeA2iB9jyDeIvPivu\n",
              "3difSS32PKwxYufA8amQfVUm4mZS92L580lXOgN2R1KD4krxF3MlPe9fn7O7C+5yvr2/Hbytd2io\n",
              "pSRMupPcRmRTiGKUHuySkB+K7Jo0ZPX+9QVE4tJYS14nomENsEvOW/r//J7v71hjgB4ASlDIDkR7\n",
              "Xv3eLvsjyeXwAEC4A6VLna0X/S7CDxOWZdNNIGTGEQgudXP3fb1R6yjnzGKilDTzz3IJSTNfw8TX\n",
              "EZq0Da9/FY4nIp22QbVSsJjbqQyNSmHEuBtNRc2JuLPSQPohfdrwDqQS2GsXprMaM1C25FphsLmp\n",
              "NxiAqcQm3fPJBwfdcqBjWriuGFpb/yBOsnvr4r3YcX0DlMXQAW8ixUAXVJvuqRb46VNP9u8Di7kh\n",
              "L2zTohEYlaGfTOrWgb9xvSBpVfS57uzYNrPz4e0RUpIN8mckcBxMsgp60OqC7a+psjmMn9Egqhuc\n",
              "lmMP3vEdKqqlJNlmOINR1rSkgGP5ykVurfi2JNCDoNKBJxfSn3gbs8TOf+a3KBA8SITXHZ1V+HN1\n",
              "DGjJP1OokpdeSQjdBi0vQwtnBtFaUq+LU6FxejhekioJTTud/Fo0tix9SB5DoSEd7SiWVu/4dRXO\n",
              "x93KFb71X1JI+QbM0yqWlp6kcyj/r2FALRtdLpXsyeYThIpMwoMpdxbOW7Qf7v/NkGW8Y3bDMwkp\n",
              "ZPRAECSCTafDHOdIelCl/QitmuyvpGvD5ZoDXA+YTUTVlJsgGRFGOSw1rPSeY9GzMAj2SpVCd5PL\n",
              "uKYiZJ+2Kisov/7Zzsj+n7bNFCmkHzmS4rXU42w1esB/naVEMnEwdk6ehk6nJqOFWSAL1TOgnjPQ\n",
              "mWnUdVTap9N91kJNskUjAITZFndAsO/1WroW/3Vla9MwIw8JpFoeIgNQK3xdpIds5cA7nP8QH6o4\n",
              "SDtJ03mUI/RnTy5LdEpGm2fWJ6HCq6k3ZTzcT4KYD24mv1OlkXh+jcPOzaHYdUD37VjteCjH7gEZ\n",
              "wQ+blPFZwKhINXpvibjv2qxWlxN5Z5tZVWqfIhg9zHp2/dlbeU2q9XOXPqUJJR0xun6WkwBSNTeN\n",
              "jRT1lrvLgsF30hdddB5nAddLuu3ALm0QSdNmzEYQYQHOvlfuhZlBX1PJiXlSfnDZYGIQxLmX4AAA\n",
              "KWlNNU7FncvPOQexNNsCnYTJaUFoQTJoVaaNp4IJmgtRO01L5Z3kpmSlfxU8OArdo88EPw5aicLA\n",
              "4L3r/O9BNi5cF3IyhD/AVpTs9FwIy29hy3spmY1NPegh7ORWQ+koRy4C3GChxonsOXT454Itv3U2\n",
              "A9FZRSAYp5fvpuJUs08rdONvMoQb6ZznxbkBjQjussDYkvmWJUufdWPnqptDooBQMOyPDjIX1NTd\n",
              "vsJPyNRwj5ZlD7/NgW9xTkBniEghvkFq1o5ASHQ1CrDxcjwbemX5pCmsPzfBD8LHLdlrKPaz/lk6\n",
              "QZd5WMvcZTwj7RkFAZq6URLTkoX20CZAZW25BDyszY8rfvVW11scuNyR5eO+5Rh/OHg3Z6tVX2ML\n",
              "jmlR6wJbDBp5J9Gz85WtuSbBGEB8K8IZXxIs5Zt9tc9utOYKiXLZMBrsStWHT+PE1jH/xKNuFNlH\n",
              "edD1BrBKN9VEa4POIQJw0/7jxB4pqqlxzn/AZoO46tLz6SHmF1/4T2FWr5pHenMfZaCbEtya34JD\n",
              "QMV6SWrDPawCWpIQDys2EvQo8cqoc28H6hYsgwygDG54VM+aiFijWWQZTLiyggLvHgd4ZvmhIEfB\n",
              "Ve6fereKEtecimq/94Q9OvKlpHIntN53715OMhxK6rtlkkr6punJaeH2Rx+95zNDN21L7Ch2NQOs\n",
              "NjEvOyoSPvahbGscO2YvxLMPkeZAfyd/vF6YspS/M7O0oktQbTnGUqMP7sYgU2BiVm3ZA5iGDmP8\n",
              "A/9naIPYso8IZ5t4KTvOw13OdkiTs3dIh/aUrVczvULF30Qjg4wwyWu9nJn+NhCBL5+EyA+i7BHU\n",
              "S6Mbl8dW3wn2Tu4D62L4I1BavbQzatJpoEglOqAWXS2ZUzg1dr0yupoqtcSIxiwwNYuWJw3E2pAe\n",
              "yXIqXRZN99TDY9kZPDVXL011JBsJOuY1IkVlkHwBs2lbAAacXPofB9V5Rg/aWXr2EI47lNAz0uWq\n",
              "TQF5NrEEDzOtSOohDf7RMeTSW748uj0J3UCMDK5Hi6kNp7KsoOebjmHp/MlojlPBGIc+GiCIBrtO\n",
              "Ctkg8cfz/urluVyUue5yCKMx74e4UvgI6YWd3SG+9CoU4RCPs5fShyOPinU0hv0aG/AkQ9Qu0Kqy\n",
              "8VdpajPsQG+MIUULt3gTVX8liuBWj95WdC9ScXV6CKTe2s/Xvf4nwva7NkBQVSYxNj0GFKn00VuM\n",
              "lXjjnPKTf6bQG6DGZivpALNm6VLR9bO1lcz2cvIIyhznUDxeQB5CtoHnP7WxVYPj2jbCqiiw+/3E\n",
              "mqWknFnu/E/1qmpPPLQe9ighKMC6WWmQt7rM71UAwklekA75b2SHLH6pIkqYwT1cEAhRyyNhB7wo\n",
              "ANsaphucs0xlmkZFEsujqfkQ0oWQBX0VohgKhhWFvmDeeSyyOaVJaYtbROY+UsHhq018l5Z7QGdQ\n",
              "0NgQvXjHNlQnLmRthu5pW7R/sGuid4uJkNDvAlsC8/ntpiGDRs7ZdvuId9/+Ff6+CdtcEAy9k9JF\n",
              "LZE2bZDwvNfwhzJBrjcsatKfdnVbQKYqE00zxuJ8u7TTneyw0scdx2/1/D+Q5MHxeLjLLTi9E6bj\n",
              "y3haqcIazTKOBm46rf0aCrKh5eRb9IrtVLvO0KkeM0O96mLEZmR6wnioJLREFDfWSyZ8CSOftTtb\n",
              "mnrc3GVVibK34Xcv4A8wqKEP4t5ljrZL+O2+WMciTSkJBryXUj//l5+Q3QCcjexeQ6YpNXStr9se\n",
              "ZwEHXaDaoz6gowdvadnfjJlMKZC1XJi2X4ZGuTYoxflJht8Vk14XCgiOcTWlGSEyUyvTIoi24brM\n",
              "zkPvRB3ZT5AYN5wcf86RPkC+gCn8WzpjgzaDG4sZhfoXgKfDE2b5rtdeT4tS+8pCjJANNG/Lhz1J\n",
              "Hx87h+OtMKNeDY1egzU/zh188nYS2ndhTqzK1m4teIRposE1JY+tuW5qGmlNYSQiJiNaMHaHCoQQ\n",
              "OP9IVHRXivQYZpfQGVKbkvC1SJg1WJekjecWTOg4vbsZCN4vw5YNN5ffu7tLyxXAxcjea+JMGa+q\n",
              "sAbFyhSowEnfSeFc9b23d9+XmiL8UF8Ws//d+isuwLwLPMGeT0LdE0Q0CQB1iCYIX3fIhI7x1UuX\n",
              "4ZELChWaU6YbzUfKV/oHXYJa89wa9ZNxSAJ4tbjQTKlbO6HU6dll5pJBznGo/B8VublIpVUtq16w\n",
              "M3lIhCme37vk5JoDd++UN2OlO2ALqRDJ1pFOzpiJqWmxYMwrgjb/QrNAE11xf0gRdT7g5Sqry/Nq\n",
              "C4PPaxZwC0zmo0n8yc7zUo9xmmruzsxFJMokP7OecWS3T+z1JiqgJ9o4ZzpoBlbVNQ80I4GoQxDD\n",
              "45mF4hgjLpmCvO2G+c3Frenbq/LMD4AzRR83TJt0O7Ziv8P9I7dkaAy3RFL6CQ1wqDMm8BFm3EGc\n",
              "lYI/bPuOZKpaDMm8BFm3YPclYJN4QxH6H+ifxvARZtxBnJV7F8jIZ0XSgBcdjUqcslGYBhNq3lwl\n",
              "3biUaQvvSAnv3RvJj2WqdJxCKXk5Sapd6Tq7H7CG4hgIn/s+jGF+ZwDpgvF8LdUYCXXFdQW602IG\n",
              "G9OOfxBluc029MPXgAY5/nGnwnGPTIHZY6+pVy1rVZpLv93JTePDcuMcZLFyg5wbiEofxTyZ18x4\n",
              "+a8ey3LG8Wqvz6WcaoYwP8iDmSLBCtPhl7jlLArHonprVlrMbmtn7YrCi4swXDcU5JUJbyTm6RX9\n",
              "8oAms2N5ZPX924zXjMfSn/BhOnpM//ZZUKhL+oYDxgD+Xm8/1NH4999x2/oJL0mJc06LgusJrz0T\n",
              "HRPHmbA3b/8W9pt28uQ3URF8r8SeQWAJgQ4wAkTtKfZdZkMc7/AQkaROdQdf7hHXw3T/htkhDSA0\n",
              "EctsK8vb9ngThbozaMskza1D04K5/6PgqUCb6dnovu3v17jh05avl9/O3/hcNm+MiTfdO1V8Hh8O\n",
              "id7aEmFP3s8oeFR1fJXM1F6d/e42zXm+EbgBsufZpmYhBM6pY5t5CybKPHs5nsyngZKaLL6Q2SW+\n",
              "oL+NcJgqB5Lq6qq8zne7450sm1+/TuPpqpiMn7lB79zJfXIqmjsTkMrVF5ckaPDUcGN3Fhc4LvWE\n",
              "Owi3i2wtuui7LUEM3aU2vT5/p/fcSxysb+2Lm9zCsiqYdJTQPCC6R4FqCFZNHTLriT62PX855O7m\n",
              "QHywhe1ZWvs6cYoLkhddkcf/q+s2anruozRD9CUErpJuSDuDhK5tWAyQ7uePPZFbBVpAYw7I80rq\n",
              "752ORbSpVguI8NJTMk59u4TiubFaMxQP/b1CVe47nIM6vH7QtrEuSeFZt7LmqtbqsmoeM97q79ek\n",
              "OQ2P5AgXJPSL00l/sui07Xc6fAu4ZAk7TShTX6T7DWpB2sTnfMkQJtRbLHWcqKk+ZJB/696EJsSM\n",
              "GEba+uaD85cc29/tEDLXR1tIxeGZeskhE7XAtcEc63nEXE38R8XRpB4qYf6vINHdGICGgwu0Mb0A\n",
              "lx9006wRWzgw/0qz1ae/RE98ynaKXz3WesDklGiOoK5Z1PUpBNb0gB8U9vti8Ugo+eOTWe8Ld1Ud\n",
              "kgAAM4WVAAABGEGaJGxBT/7WjLAFB0eAADmi5ksmXoLWHJ+hldzUdTVOC8gYwdHINQhqJCI+i2vY\n",
              "gC7fGFyenhSxowHqr+QrUHd/pzlB9Yd2NVSh4pLng16ofGGviPAfrhhgp2IhC/0NNIkeZPDReNFj\n",
              "AiygeEu468aMzxxhNHgtEMi1sOR+gh90zD4KJ4P4AYZ1aM01/LEQEX2ELbG6MhcEkHTUooIfFnmD\n",
              "YOO8TAu+HDRqwArLGVqPe7dDfQlR/+nL2+AFGZSFEAZDR8u4Ay0n2TmVdd0cI1wjM6oNo5LUVuIW\n",
              "MrK04lL33LrB3cx1cNG2nH0Kvc3tRFaHcHik427WH1YESj0VxpssQudk6lOiUholoI/u4qGlmux+\n",
              "dUKprYAAAAAoQZ5CeIIfABhaH5aez5fWKbNdL4E4Y+Rh/fa0h2IbLKrXIlGe8kROwQAAACcBnmF0\n",
              "Q/8ANbdKH6gctNn5DyS+PQnw4qFEcEhtz8d4cEpMgti0MKAAAAAOAZ5jakP/AANz48Dg5YEAAAAl\n",
              "QZpoSahBaJlMCCn//taMsADeVMZwBQ+m+0WkBaTUqq9jpoekgQAAABNBnoZFESwQ/wABkdU0okwZ\n",
              "TaeBAAAADQGepXRD/wADc3Sf4RcAAAAOAZ6nakP/AANz48Dg5YAAAAAUQZqsSahBbJlMCCn//taM\n",
              "sAAAB9wAAAATQZ7KRRUsEP8AAZHVNKJMGU2ngQAAAA0Bnul0Q/8AA3N0n+EXAAAADgGe62pD/wAD\n",
              "c+PA4OWAAAAAFEGa8EmoQWyZTAgp//7WjLAAAAfdAAAAE0GfDkUVLBD/AAGR1TSiTBlNp4EAAAAN\n",
              "AZ8tdEP/AANzdJ/hFwAAAA4Bny9qQ/8AA3PjwODlgAAAABRBmzRJqEFsmUwIKf/+1oywAAAH3AAA\n",
              "ABNBn1JFFSwQ/wABkdU0okwZTaeBAAAADQGfcXRD/wADc3Sf4RcAAAAOAZ9zakP/AANz48Dg5YAA\n",
              "AAAUQZt4SahBbJlMCCn//taMsAAAB90AAAATQZ+WRRUsEP8AAZHVNKJMGU2ngAAAAA0Bn7V0Q/8A\n",
              "A3N0n+EXAAAADgGft2pD/wADc+PA4OWBAAAAFEGbvEmoQWyZTAgp//7WjLAAAAfcAAAAE0Gf2kUV\n",
              "LBD/AAGR1TSiTBlNp4EAAAANAZ/5dEP/AANzdJ/hFwAAAA4Bn/tqQ/8AA3PjwODlgQAAABRBm+BJ\n",
              "qEFsmUwIKf/+1oywAAAH3QAAABNBnh5FFSwQ/wABkdU0okwZTaeAAAAADQGePXRD/wADc3Sf4RcA\n",
              "AAAOAZ4/akP/AANz48Dg5YEAAAAUQZokSahBbJlMCCn//taMsAAAB9wAAAATQZ5CRRUsEP8AAZHV\n",
              "NKJMGU2ngQAAAA0BnmF0Q/8AA3N0n+EXAAAADgGeY2pD/wADc+PA4OWBAAAAFEGaaEmoQWyZTAgp\n",
              "//7WjLAAAAfdAAAAE0GehkUVLBD/AAGR1TSiTBlNp4EAAAANAZ6ldEP/AANzdJ/hFwAAAA4Bnqdq\n",
              "Q/8AA3PjwODlgAAAABRBmqxJqEFsmUwIKf/+1oywAAAH3AAAABNBnspFFSwQ/wABkdU0okwZTaeB\n",
              "AAAADQGe6XRD/wADc3Sf4RcAAAAOAZ7rakP/AANz48Dg5YAAAAAUQZrwSahBbJlMCCn//taMsAAA\n",
              "B90AAAATQZ8ORRUsEP8AAZHVNKJMGU2ngQAAAA0Bny10Q/8AA3N0n+EXAAAADgGfL2pD/wADc+PA\n",
              "4OWAAAAAFEGbNEmoQWyZTAgp//7WjLAAAAfcAAAAE0GfUkUVLBD/AAGR1TSiTBlNp4EAAAANAZ9x\n",
              "dEP/AANzdJ/hFwAAAA4Bn3NqQ/8AA3PjwODlgAAAABRBm3hJqEFsmUwIKf/+1oywAAAH3QAAABNB\n",
              "n5ZFFSwQ/wABkdU0okwZTaeAAAAADQGftXRD/wADc3Sf4RcAAAAOAZ+3akP/AANz48Dg5YEAAAAU\n",
              "QZu8SahBbJlMCCn//taMsAAAB9wAAAATQZ/aRRUsEP8AAZHVNKJMGU2ngQAAAA0Bn/l0Q/8AA3N0\n",
              "n+EXAAAADgGf+2pD/wADc+PA4OWBAAAAFEGb4EmoQWyZTAgp//7WjLAAAAfdAAAAE0GeHkUVLBD/\n",
              "AAGR1TSiTBlNp4AAAAANAZ49dEP/AANzdJ/hFwAAAA4Bnj9qQ/8AA3PjwODlgQAAABRBmiRJqEFs\n",
              "mUwIKf/+1oywAAAH3AAAABNBnkJFFSwQ/wABkdU0okwZTaeBAAAADQGeYXRD/wADc3Sf4RcAAAAO\n",
              "AZ5jakP/AANz48Dg5YEAAAAUQZpoSahBbJlMCCn//taMsAAAB90AAAATQZ6GRRUsEP8AAZHVNKJM\n",
              "GU2ngQAAAA0BnqV0Q/8AA3N0n+EXAAAADgGep2pD/wADc+PA4OWAAAAAFEGarEmoQWyZTAgp//7W\n",
              "jLAAAAfcAAAAE0GeykUVLBD/AAGR1TSiTBlNp4EAAAANAZ7pdEP/AANzdJ/hFwAAAA4BnutqQ/8A\n",
              "A3PjwODlgAAAABRBmvBJqEFsmUwIKf/+1oywAAAH3QAAABNBnw5FFSwQ/wABkdU0okwZTaeBAAAA\n",
              "DQGfLXRD/wADc3Sf4RcAAAAOAZ8vakP/AANz48Dg5YAAAAAUQZs0SahBbJlMCCf//rUqgAAAHrAA\n",
              "AAATQZ9SRRUsEP8AAZHVNKJMGU2ngQAAAA0Bn3F0Q/8AA3N0n+EXAAAADgGfc2pD/wADc+PA4OWA\n",
              "AAAAFEGbeEmoQWyZTAgn//61KoAAAB6xAAAAE0GflkUVLBD/AAGR1TSiTBlNp4AAAAANAZ+1dEP/\n",
              "AANzdJ/hFwAAAA4Bn7dqQ/8AA3PjwODlgQAAABRBm7xJqEFsmUwIJ//+tSqAAAAesAAAABNBn9pF\n",
              "FSwQ/wABkdU0okwZTaeBAAAADQGf+XRD/wADc3Sf4RcAAAAOAZ/7akP/AANz48Dg5YEAAAAUQZvg\n",
              "SahBbJlMCCX//rUqgAAAHrEAAAATQZ4eRRUsEP8AAZHVNKJMGU2ngAAAAA0Bnj10Q/8AA3N0n+EX\n",
              "AAAADgGeP2pD/wADc+PA4OWBAAAAFUGaI0moQWyZTAh///6plgAAAwDwgAAAABNBnkFFFSwQ/wAB\n",
              "kdU0okwZTaeBAAAADgGeYmpD/wADc+PA4OWAAAAH1m1vb3YAAABsbXZoZAAAAAAAAAAAAAAAAAAA\n",
              "A+gAAE4gAAEAAAEAAAAAAAAAAAAAAAABAAAAAAAAAAAAAAAAAAAAAQAAAAAAAAAAAAAAAAAAQAAA\n",
              "AAAAAAAAAAAAAAAAAAAAAAAAAAAAAAAAAAAAAAIAAAcAdHJhawAAAFx0a2hkAAAAAwAAAAAAAAAA\n",
              "AAAAAQAAAAAAAE4gAAAAAAAAAAAAAAAAAAAAAAABAAAAAAAAAAAAAAAAAAAAAQAAAAAAAAAAAAAA\n",
              "AAAAQAAAAAGwAAABIAAAAAAAJGVkdHMAAAAcZWxzdAAAAAAAAAABAABOIAAAEAAAAQAAAAAGeG1k\n",
              "aWEAAAAgbWRoZAAAAAAAAAAAAAAAAAAAKAAAAyAAVcQAAAAAAC1oZGxyAAAAAAAAAAB2aWRlAAAA\n",
              "AAAAAAAAAAAAVmlkZW9IYW5kbGVyAAAABiNtaW5mAAAAFHZtaGQAAAABAAAAAAAAAAAAAAAkZGlu\n",
              "ZgAAABxkcmVmAAAAAAAAAAEAAAAMdXJsIAAAAAEAAAXjc3RibAAAALNzdHNkAAAAAAAAAAEAAACj\n",
              "YXZjMQAAAAAAAAABAAAAAAAAAAAAAAAAAAAAAAGwASAASAAAAEgAAAAAAAAAAQAAAAAAAAAAAAAA\n",
              "AAAAAAAAAAAAAAAAAAAAAAAAAAAAABj//wAAADFhdmNDAWQAFf/hABhnZAAVrNlBsJaEAAADAAQA\n",
              "AAMAKDxYtlgBAAZo6+PLIsAAAAAcdXVpZGtoQPJfJE/FujmlG88DI/MAAAAAAAAAGHN0dHMAAAAA\n",
              "AAAAAQAAAGQAAAgAAAAAFHN0c3MAAAAAAAAAAQAAAAEAAAMoY3R0cwAAAAAAAABjAAAAAQAAEAAA\n",
              "AAABAAAoAAAAAAEAABAAAAAAAQAAAAAAAAABAAAIAAAAAAEAACgAAAAAAQAAEAAAAAABAAAAAAAA\n",
              "AAEAAAgAAAAAAQAAKAAAAAABAAAQAAAAAAEAAAAAAAAAAQAACAAAAAABAAAoAAAAAAEAABAAAAAA\n",
              "AQAAAAAAAAABAAAIAAAAAAEAACgAAAAAAQAAEAAAAAABAAAAAAAAAAEAAAgAAAAAAQAAKAAAAAAB\n",
              "AAAQAAAAAAEAAAAAAAAAAQAACAAAAAABAAAoAAAAAAEAABAAAAAAAQAAAAAAAAABAAAIAAAAAAEA\n",
              "ACgAAAAAAQAAEAAAAAABAAAAAAAAAAEAAAgAAAAAAQAAKAAAAAABAAAQAAAAAAEAAAAAAAAAAQAA\n",
              "CAAAAAABAAAoAAAAAAEAABAAAAAAAQAAAAAAAAABAAAIAAAAAAEAACgAAAAAAQAAEAAAAAABAAAA\n",
              "AAAAAAEAAAgAAAAAAQAAKAAAAAABAAAQAAAAAAEAAAAAAAAAAQAACAAAAAABAAAoAAAAAAEAABAA\n",
              "AAAAAQAAAAAAAAABAAAIAAAAAAEAACgAAAAAAQAAEAAAAAABAAAAAAAAAAEAAAgAAAAAAQAAKAAA\n",
              "AAABAAAQAAAAAAEAAAAAAAAAAQAACAAAAAABAAAoAAAAAAEAABAAAAAAAQAAAAAAAAABAAAIAAAA\n",
              "AAEAACgAAAAAAQAAEAAAAAABAAAAAAAAAAEAAAgAAAAAAQAAKAAAAAABAAAQAAAAAAEAAAAAAAAA\n",
              "AQAACAAAAAABAAAoAAAAAAEAABAAAAAAAQAAAAAAAAABAAAIAAAAAAEAACgAAAAAAQAAEAAAAAAB\n",
              "AAAAAAAAAAEAAAgAAAAAAQAAKAAAAAABAAAQAAAAAAEAAAAAAAAAAQAACAAAAAABAAAoAAAAAAEA\n",
              "ABAAAAAAAQAAAAAAAAABAAAIAAAAAAEAACgAAAAAAQAAEAAAAAABAAAAAAAAAAEAAAgAAAAAAQAA\n",
              "KAAAAAABAAAQAAAAAAEAAAAAAAAAAQAACAAAAAABAAAgAAAAAAIAAAgAAAAAHHN0c2MAAAAAAAAA\n",
              "AQAAAAEAAABkAAAAAQAAAaRzdHN6AAAAAAAAAAAAAABkAAAelAAAARwAAAAsAAAAKwAAABIAAAAp\n",
              "AAAAFwAAABEAAAASAAAAGAAAABcAAAARAAAAEgAAABgAAAAXAAAAEQAAABIAAAAYAAAAFwAAABEA\n",
              "AAASAAAAGAAAABcAAAARAAAAEgAAABgAAAAXAAAAEQAAABIAAAAYAAAAFwAAABEAAAASAAAAGAAA\n",
              "ABcAAAARAAAAEgAAABgAAAAXAAAAEQAAABIAAAAYAAAAFwAAABEAAAASAAAAGAAAABcAAAARAAAA\n",
              "EgAAABgAAAAXAAAAEQAAABIAAAAYAAAAFwAAABEAAAASAAAAGAAAABcAAAARAAAAEgAAABgAAAAX\n",
              "AAAAEQAAABIAAAAYAAAAFwAAABEAAAASAAAAGAAAABcAAAARAAAAEgAAABgAAAAXAAAAEQAAABIA\n",
              "AAAYAAAAFwAAABEAAAASAAAAGAAAABcAAAARAAAAEgAAABgAAAAXAAAAEQAAABIAAAAYAAAAFwAA\n",
              "ABEAAAASAAAAGAAAABcAAAARAAAAEgAAABkAAAAXAAAAEgAAABRzdGNvAAAAAAAAAAEAAAAsAAAA\n",
              "YnVkdGEAAABabWV0YQAAAAAAAAAhaGRscgAAAAAAAAAAbWRpcmFwcGwAAAAAAAAAAAAAAAAtaWxz\n",
              "dAAAACWpdG9vAAAAHWRhdGEAAAABAAAAAExhdmY1Ny44My4xMDA=\n",
              "\">\n",
              "  Your browser does not support the video tag.\n",
              "</video>"
            ],
            "text/plain": [
              "<IPython.core.display.HTML object>"
            ]
          },
          "metadata": {
            "tags": []
          },
          "execution_count": 231
        }
      ]
    }
  ]
}